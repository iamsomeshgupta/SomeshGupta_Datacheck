{
 "cells": [
  {
   "cell_type": "code",
   "execution_count": 16,
   "id": "48f1e5a9-a2cd-472d-a2b2-1dcc742c66b9",
   "metadata": {},
   "outputs": [],
   "source": [
    "import pandas as pd\n",
    "\n",
    "train_features = pd.read_csv(r\"C:\\Users\\somes\\OneDrive\\ドキュメント\\training_set_features.csv\")\n",
    "train_labels = pd.read_csv(r\"C:\\Users\\somes\\OneDrive\\ドキュメント\\training_set_labels.csv\")\n",
    "test_features = pd.read_csv(r\"C:\\Users\\somes\\OneDrive\\ドキュメント\\test_set_features.csv\")\n"
   ]
  },
  {
   "cell_type": "code",
   "execution_count": 17,
   "id": "3b16afd5-a041-427d-ac79-644dc1dd53f1",
   "metadata": {},
   "outputs": [
    {
     "name": "stdout",
     "output_type": "stream",
     "text": [
      "ROC AUC for xyz_vaccine: 0.864173999277244\n",
      "ROC AUC for seasonal_vaccine: 0.8570519011081396\n",
      "Average ROC AUC: 0.8606129501926918\n"
     ]
    }
   ],
   "source": [
    "from sklearn.model_selection import train_test_split\n",
    "from sklearn.preprocessing import StandardScaler, OneHotEncoder\n",
    "from sklearn.compose import ColumnTransformer\n",
    "from sklearn.impute import SimpleImputer\n",
    "from sklearn.pipeline import Pipeline\n",
    "from sklearn.multioutput import MultiOutputClassifier\n",
    "from sklearn.ensemble import RandomForestClassifier\n",
    "from sklearn.metrics import roc_auc_score\n",
    "\n",
    "train_data = pd.merge(train_features, train_labels, on='respondent_id')\n",
    "\n",
    "X = train_data.drop(columns=['respondent_id', 'xyz_vaccine', 'seasonal_vaccine'])\n",
    "y = train_data[['xyz_vaccine', 'seasonal_vaccine']]\n",
    "\n",
    "categorical_cols = X.select_dtypes(include=['object']).columns.tolist()\n",
    "numerical_cols = X.select_dtypes(include=['float64', 'int64']).columns.tolist()\n",
    "\n",
    "numerical_transformer = Pipeline(steps=[\n",
    "    ('imputer', SimpleImputer(strategy='mean')),\n",
    "    ('scaler', StandardScaler())\n",
    "])\n",
    "\n",
    "categorical_transformer = Pipeline(steps=[\n",
    "    ('imputer', SimpleImputer(strategy='most_frequent')),\n",
    "    ('onehot', OneHotEncoder(handle_unknown='ignore'))\n",
    "])\n",
    "\n",
    "preprocessor = ColumnTransformer(\n",
    "    transformers=[\n",
    "        ('num', numerical_transformer, numerical_cols),\n",
    "        ('cat', categorical_transformer, categorical_cols)\n",
    "    ])\n",
    "\n",
    "model = MultiOutputClassifier(RandomForestClassifier(n_estimators=100, random_state=42))\n",
    "\n",
    "pipeline = Pipeline(steps=[('preprocessor', preprocessor),\n",
    "                           ('classifier', model)])\n",
    "\n",
    "X_train, X_val, y_train, y_val = train_test_split(X, y, test_size=0.2, random_state=42)\n",
    "\n",
    "\n",
    "pipeline.fit(X_train, y_train)\n",
    "\n",
    "y_pred = pipeline.predict_proba(X_val)\n",
    "y_pred = pd.DataFrame({\n",
    "    'xyz_vaccine': y_pred[0][:, 1],\n",
    "    'seasonal_vaccine': y_pred[1][:, 1]\n",
    "})\n",
    "\n",
    "roc_auc_xyz = roc_auc_score(y_val['xyz_vaccine'], y_pred['xyz_vaccine'])\n",
    "roc_auc_seasonal = roc_auc_score(y_val['seasonal_vaccine'], y_pred['seasonal_vaccine'])\n",
    "roc_auc_avg = (roc_auc_xyz + roc_auc_seasonal) / 2\n",
    "\n",
    "print(f'ROC AUC for xyz_vaccine: {roc_auc_xyz}')\n",
    "print(f'ROC AUC for seasonal_vaccine: {roc_auc_seasonal}')\n",
    "print(f'Average ROC AUC: {roc_auc_avg}')\n"
   ]
  },
  {
   "cell_type": "code",
   "execution_count": 18,
   "id": "991d5956-8d18-48f2-9d57-5f2b325c831a",
   "metadata": {},
   "outputs": [],
   "source": [
    "test_ids = test_features['respondent_id']\n",
    "X_test = test_features.drop(columns=['respondent_id'])\n",
    "test_pred = pipeline.predict_proba(X_test)\n",
    "test_pred = pd.DataFrame({\n",
    "    'respondent_id': test_ids,\n",
    "    'xyz_vaccine': test_pred[0][:, 1],\n",
    "    'seasonal_vaccine': test_pred[1][:, 1]\n",
    "})\n",
    "\n",
    "test_pred.to_csv('submission.csv', index=False)\n"
   ]
  },
  {
   "cell_type": "code",
   "execution_count": null,
   "id": "6997d900-5d94-40cf-92c6-9ba789cc4228",
   "metadata": {},
   "outputs": [],
   "source": []
  }
 ],
 "metadata": {
  "kernelspec": {
   "display_name": "Python 3 (ipykernel)",
   "language": "python",
   "name": "python3"
  },
  "language_info": {
   "codemirror_mode": {
    "name": "ipython",
    "version": 3
   },
   "file_extension": ".py",
   "mimetype": "text/x-python",
   "name": "python",
   "nbconvert_exporter": "python",
   "pygments_lexer": "ipython3",
   "version": "3.11.7"
  }
 },
 "nbformat": 4,
 "nbformat_minor": 5
}
